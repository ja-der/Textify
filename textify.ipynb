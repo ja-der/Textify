{
  "nbformat": 4,
  "nbformat_minor": 0,
  "metadata": {
    "colab": {
      "provenance": [],
      "authorship_tag": "ABX9TyOZjDm4aQgP6bmoPyipJ7Pr"
    },
    "kernelspec": {
      "name": "python3",
      "display_name": "Python 3"
    },
    "language_info": {
      "name": "python"
    }
  },
  "cells": [
    {
      "cell_type": "code",
      "execution_count": null,
      "metadata": {
        "colab": {
          "base_uri": "https://localhost:8080/"
        },
        "id": "L42mj3fGcHTb",
        "outputId": "42a313ae-96e0-4a1c-9771-9b3348b43b3c"
      },
      "outputs": [
        {
          "output_type": "stream",
          "name": "stdout",
          "text": [
            "              FILENAME    IDENTITY\n",
            "0  VALIDATION_0001.jpg       BILEL\n",
            "1  VALIDATION_0002.jpg  LAUMIONIER\n",
            "2  VALIDATION_0003.jpg         LEA\n",
            "3  VALIDATION_0004.jpg   JEAN-ROCH\n",
            "4  VALIDATION_0005.jpg        RUPP\n"
          ]
        }
      ],
      "source": [
        "import pandas as pd\n",
        "import numpy as np\n",
        "import tensorflow as tf\n",
        "from tensorflow.keras.preprocessing.image import ImageDataGenerator\n",
        "from sklearn.model_selection import train_test_split\n",
        "from sklearn.preprocessing import LabelEncoder\n",
        "from PIL import Image\n",
        "import os\n",
        "\n",
        "\n",
        "df = pd.read_csv('written_name_validation_v2.csv')\n",
        "\n",
        "# Display the first few rows of the DataFrame to understand its structure\n",
        "print(df.head())"
      ]
    },
    {
      "cell_type": "code",
      "source": [
        "from PIL import Image\n",
        "import os\n",
        "\n",
        "dataset_folder = 'dataset'\n",
        "image_data = []\n",
        "labels = []\n",
        "\n",
        "# Load only the first 90 rows\n",
        "df = df.head(90)\n",
        "\n",
        "# Load Images and Labels\n",
        "dataset_folder = 'dataset'\n",
        "image_data = []\n",
        "labels = []\n",
        "\n",
        "for index, row in df.iterrows():\n",
        "    image_path = os.path.join(dataset_folder, row['FILENAME'])\n",
        "    img = Image.open(image_path).convert('L')  # Convert to grayscale\n",
        "    img = img.resize((64, 64))  # Resize images if needed\n",
        "    img_array = np.array(img)\n",
        "    image_data.append(img_array)\n",
        "    labels.append(row['IDENTITY'])\n",
        "\n",
        "# Convert lists to NumPy arrays\n",
        "x_images = np.array(image_data)\n",
        "y_labels = np.array(labels)\n",
        "\n",
        "# Preprocess Data\n",
        "# Normalize image data and handle variations in lighting and shade\n",
        "x_images = x_images / 255.0\n",
        "x_images = (x_images - np.mean(x_images)) / np.std(x_images)\n",
        "\n",
        "# Convert labels to numerical format\n",
        "label_encoder = LabelEncoder()\n",
        "y_labels_encoded = label_encoder.fit_transform(y_labels)\n",
        "\n",
        "# Split Data into Training and Validation Sets\n",
        "x_train, x_val, y_train, y_val = train_test_split(x_images, y_labels_encoded, test_size=0.2, random_state=42)\n",
        "\n",
        "# Data Augmentation\n",
        "datagen = ImageDataGenerator(\n",
        "    rotation_range=20,\n",
        "    width_shift_range=0.2,\n",
        "    height_shift_range=0.2,\n",
        "    shear_range=0.2,\n",
        "    zoom_range=0.2,\n",
        "    horizontal_flip=True,\n",
        "    fill_mode='nearest'\n",
        ")\n",
        "print(x_train.shape)\n",
        "\n"
      ],
      "metadata": {
        "id": "XV4NZYj8cObv",
        "colab": {
          "base_uri": "https://localhost:8080/"
        },
        "outputId": "5f55aa48-37a1-4764-c1a6-42e99b1a7e36"
      },
      "execution_count": null,
      "outputs": [
        {
          "output_type": "stream",
          "name": "stdout",
          "text": [
            "(72, 64, 64)\n"
          ]
        }
      ]
    },
    {
      "cell_type": "code",
      "source": [
        "from sklearn.model_selection import train_test_split\n",
        "\n",
        "x_train, x_val, y_train, y_val = train_test_split(x_images, y_labels_encoded, test_size=0.2, random_state=42)\n"
      ],
      "metadata": {
        "id": "GmAxTg1YfvEo"
      },
      "execution_count": null,
      "outputs": []
    },
    {
      "cell_type": "code",
      "source": [
        "import tensorflow as tf\n",
        "from tensorflow.keras import layers\n",
        "\n",
        "# Build and Train the Model\n",
        "model = tf.keras.models.Sequential([\n",
        "    tf.keras.layers.Reshape((64, 64, 1), input_shape=(64, 64)),\n",
        "    tf.keras.layers.Conv2D(32, (3, 3), activation='relu'),\n",
        "    tf.keras.layers.MaxPooling2D((2, 2)),\n",
        "    tf.keras.layers.Flatten(),\n",
        "    tf.keras.layers.Dense(units=128, activation='relu'),\n",
        "    tf.keras.layers.Dense(units=len(np.unique(y_labels_encoded)), activation='softmax')\n",
        "])\n",
        "\n"
      ],
      "metadata": {
        "id": "jPQrTi-Sfyek"
      },
      "execution_count": null,
      "outputs": []
    },
    {
      "cell_type": "code",
      "source": [
        "model.compile(optimizer='adam', loss='sparse_categorical_crossentropy', metrics=['accuracy'])\n",
        "\n"
      ],
      "metadata": {
        "id": "VLTpqGSef0kr"
      },
      "execution_count": null,
      "outputs": []
    },
    {
      "cell_type": "code",
      "source": [
        "model.fit(x_train, y_train, validation_data=(x_val, y_val), epochs=10)"
      ],
      "metadata": {
        "id": "OiHMIhvXf19A"
      },
      "execution_count": null,
      "outputs": []
    }
  ]
}