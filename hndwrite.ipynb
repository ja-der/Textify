{
  "nbformat": 4,
  "nbformat_minor": 0,
  "metadata": {
    "colab": {
      "provenance": [],
      "authorship_tag": "ABX9TyP1XsIKMh3Flz6XgKdhtUmG"
    },
    "kernelspec": {
      "name": "python3",
      "display_name": "Python 3"
    },
    "language_info": {
      "name": "python"
    }
  },
  "cells": [
    {
      "cell_type": "code",
      "source": [],
      "metadata": {
        "colab": {
          "base_uri": "https://localhost:8080/"
        },
        "id": "QxZBVXD25QET",
        "outputId": "6b1c7023-39bb-4773-e2f9-f6705ae2d77c"
      },
      "execution_count": 5,
      "outputs": [
        {
          "output_type": "stream",
          "name": "stdout",
          "text": [
            "Downloading handwriting-recognition, 1353071625 bytes compressed\n",
            "[==================================================] 1353071625 bytes downloaded\n",
            "Downloaded and uncompressed: handwriting-recognition\n",
            "Data source import complete.\n"
          ]
        }
      ]
    },
    {
      "cell_type": "code",
      "execution_count": 35,
      "metadata": {
        "id": "QsRsU9-KqafQ"
      },
      "outputs": [],
      "source": [
        "import pandas as pd\n",
        "import numpy as np\n",
        "import tensorflow as tf\n",
        "\n",
        "validation = pd.read_csv('written_name_validation_v2.csv')\n",
        "training = pd.read_csv('written_name_train_v2.csv')"
      ]
    },
    {
      "cell_type": "code",
      "source": [
        "array = list(training.columns)\n",
        "\n",
        "array2 = []\n",
        "for i in array:\n",
        "    if training[i].dtype == 'object':\n",
        "        array2.append(i)"
      ],
      "metadata": {
        "id": "ypn4-VR9Jna2"
      },
      "execution_count": 36,
      "outputs": []
    },
    {
      "cell_type": "code",
      "source": [
        "from sklearn.preprocessing import LabelEncoder\n",
        "encoder = LabelEncoder()\n",
        "\n",
        "for i in array:\n",
        "    training[i] = encoder.fit_transform(training[i])"
      ],
      "metadata": {
        "id": "bTO6v2VPKY7s"
      },
      "execution_count": 37,
      "outputs": []
    },
    {
      "cell_type": "code",
      "source": [
        "# maybe change if not correct answer\n",
        "x = training.drop('FILENAME',axis=1)\n",
        "y = training['FILENAME']"
      ],
      "metadata": {
        "id": "q7C4DT9tsNIX"
      },
      "execution_count": 51,
      "outputs": []
    },
    {
      "cell_type": "code",
      "source": [
        "from sklearn.model_selection import train_test_split\n",
        "\n",
        "x_train,x_test,y_train,y_test = train_test_split(x,y,test_size=0.2)"
      ],
      "metadata": {
        "id": "0sJw2lYIEkNA"
      },
      "execution_count": 52,
      "outputs": []
    },
    {
      "cell_type": "code",
      "source": [
        "model = tf.keras.models.Sequential()\n",
        "model.add(tf.keras.layers.Dense(units=80,activation='relu',name = 'input_layer'))\n",
        "model.add(tf.keras.layers.Dense(units=60,activation='relu',name = 'dense_layer1'))\n",
        "model.add(tf.keras.layers.Dense(units=40,activation='relu',name = 'dense_layer2'))\n",
        "model.add(tf.keras.layers.Dense(units=1,name='Output_layer'))\n"
      ],
      "metadata": {
        "id": "C0VDZd8hEwDv"
      },
      "execution_count": 53,
      "outputs": []
    },
    {
      "cell_type": "code",
      "source": [
        "model.compile(optimizer='adam', loss='binary_crossentropy',metrics=['accuracy'])"
      ],
      "metadata": {
        "id": "_fyku1xfElOq"
      },
      "execution_count": 54,
      "outputs": []
    },
    {
      "cell_type": "code",
      "source": [
        "model.fit(x_train,y_train, epochs=1000)\n"
      ],
      "metadata": {
        "colab": {
          "base_uri": "https://localhost:8080/"
        },
        "id": "sV0QS2CVH67U",
        "outputId": "159979c4-0561-423b-a158-4a706665617c"
      },
      "execution_count": null,
      "outputs": [
        {
          "output_type": "stream",
          "name": "stdout",
          "text": [
            "Epoch 1/1000\n",
            "8274/8274 [==============================] - 17s 2ms/step - loss: 2553011.7500 - accuracy: 3.7769e-06\n",
            "Epoch 2/1000\n",
            "8274/8274 [==============================] - 17s 2ms/step - loss: 2553009.0000 - accuracy: 3.7769e-06\n",
            "Epoch 3/1000\n",
            "8274/8274 [==============================] - 18s 2ms/step - loss: 2553009.2500 - accuracy: 3.7769e-06\n",
            "Epoch 4/1000\n",
            "8274/8274 [==============================] - 17s 2ms/step - loss: 2553003.7500 - accuracy: 3.7769e-06\n",
            "Epoch 5/1000\n",
            "8274/8274 [==============================] - 17s 2ms/step - loss: 2553011.5000 - accuracy: 3.7769e-06\n",
            "Epoch 6/1000\n",
            "2522/8274 [========>.....................] - ETA: 13s - loss: 2550096.2500 - accuracy: 0.0000e+00"
          ]
        }
      ]
    }
  ]
}