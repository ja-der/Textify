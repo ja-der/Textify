{
  "nbformat": 4,
  "nbformat_minor": 0,
  "metadata": {
    "colab": {
      "provenance": [],
      "authorship_tag": "ABX9TyPeevWneDuoi/Bw5z38RZag"
    },
    "kernelspec": {
      "name": "python3",
      "display_name": "Python 3"
    },
    "language_info": {
      "name": "python"
    }
  },
  "cells": [
    {
      "cell_type": "code",
      "execution_count": 1,
      "metadata": {
        "id": "QsRsU9-KqafQ"
      },
      "outputs": [],
      "source": [
        "import pandas as pd\n",
        "import numpy as np\n",
        "import tensorflow as tf\n",
        "\n",
        "# update paths\n",
        "train = pd.read_csv('written_name_train_v2.csv')\n",
        "validation = pd.read_csv('written_name_validation_v2.csv')"
      ]
    },
    {
      "cell_type": "code",
      "source": [],
      "metadata": {
        "id": "q7C4DT9tsNIX"
      },
      "execution_count": null,
      "outputs": []
    }
  ]
}